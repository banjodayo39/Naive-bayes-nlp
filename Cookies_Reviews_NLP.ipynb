{
 "cells": [
  {
   "cell_type": "markdown",
   "metadata": {},
   "source": [
    " <a id='hypertextlink'></a>\n",
    "\n",
    "## Table of Content\n",
    "\n",
    "* [Importing Libraries](#libraries)\n",
    "* [Reading Dataset](#dataset)\n",
    "* [Preprocessing Data](#preprocessing)\n",
    "* [Total number of reviews](#reviews_no)\n",
    "* [Percent of 1, 2, 3, 4 and 5 star reviews](#reviews_percent)\n",
    "* [Modelling with new Column](#modelling_new_column)\n",
    "* [Splitting Dataset into Test and Training Set](#split)\n",
    "* [Matrix 1: Unigram Single Words](#unigrams)\n",
    "* [Matrix 2: Ngrams = 2](#2_ngrams)\n",
    "* [Logistic Regression](#log_reg)\n",
    "* [Error Metric](#error_metric)\n",
    "* [Multinomial Naive Bayes](#multinomialNB)\n",
    "\n"
   ]
  },
  {
   "cell_type": "markdown",
   "metadata": {},
   "source": [
    "# <center>Classification of as Positive or Negative</center>"
   ]
  },
  {
   "cell_type": "markdown",
   "metadata": {},
   "source": [
    "<a id='libraries'></a>\n",
    "\n",
    "## Importing Libraries"
   ]
  },
  {
   "cell_type": "code",
   "execution_count": 101,
   "metadata": {},
   "outputs": [],
   "source": [
    "import nltk\n",
    "import pandas as pd\n",
    "import re  # Text preprocessing steps - remove numbers, captial letters and punctuation\n",
    "import string\n",
    "from sklearn.model_selection import train_test_split\n",
    "from sklearn.feature_extraction.text import CountVectorizer\n",
    "from sklearn.linear_model import LogisticRegression\n",
    "from sklearn.naive_bayes import MultinomialNB\n",
    "from sklearn.naive_bayes import BernoulliNB\n",
    "from sklearn import preprocessing\n",
    "from sklearn.metrics import confusion_matrix\n",
    "import matplotlib.pyplot as plt\n",
    "import seaborn as sns\n",
    "%matplotlib inline"
   ]
  },
  {
   "cell_type": "markdown",
   "metadata": {},
   "source": [
    "<a id='dataset'></a>\n",
    "\n",
    "##  Reading Dataset"
   ]
  },
  {
   "cell_type": "code",
   "execution_count": 107,
   "metadata": {},
   "outputs": [
    {
     "data": {
      "text/html": [
       "<div>\n",
       "<style scoped>\n",
       "    .dataframe tbody tr th:only-of-type {\n",
       "        vertical-align: middle;\n",
       "    }\n",
       "\n",
       "    .dataframe tbody tr th {\n",
       "        vertical-align: top;\n",
       "    }\n",
       "\n",
       "    .dataframe thead th {\n",
       "        text-align: right;\n",
       "    }\n",
       "</style>\n",
       "<table border=\"1\" class=\"dataframe\">\n",
       "  <thead>\n",
       "    <tr style=\"text-align: right;\">\n",
       "      <th></th>\n",
       "      <th>user_id</th>\n",
       "      <th>stars</th>\n",
       "      <th>reviews</th>\n",
       "    </tr>\n",
       "  </thead>\n",
       "  <tbody>\n",
       "    <tr>\n",
       "      <th>0</th>\n",
       "      <td>A2XP9IN4JOMROD</td>\n",
       "      <td>1</td>\n",
       "      <td>I wanted to love this. I was even prepared for...</td>\n",
       "    </tr>\n",
       "    <tr>\n",
       "      <th>1</th>\n",
       "      <td>A2TS09JCXNV1VD</td>\n",
       "      <td>5</td>\n",
       "      <td>Grove Square Cappuccino Cups were excellent. T...</td>\n",
       "    </tr>\n",
       "    <tr>\n",
       "      <th>2</th>\n",
       "      <td>AJ3L5J7GN09SV</td>\n",
       "      <td>2</td>\n",
       "      <td>I bought the Grove Square hazelnut cappuccino ...</td>\n",
       "    </tr>\n",
       "    <tr>\n",
       "      <th>3</th>\n",
       "      <td>A3CZD34ZTUJME7</td>\n",
       "      <td>1</td>\n",
       "      <td>I love my Keurig, and I love most of the Keuri...</td>\n",
       "    </tr>\n",
       "    <tr>\n",
       "      <th>4</th>\n",
       "      <td>AWKN396SHAQGP</td>\n",
       "      <td>1</td>\n",
       "      <td>It's a powdered drink. No filter in k-cup.&lt;br ...</td>\n",
       "    </tr>\n",
       "  </tbody>\n",
       "</table>\n",
       "</div>"
      ],
      "text/plain": [
       "          user_id  stars                                            reviews\n",
       "0  A2XP9IN4JOMROD      1  I wanted to love this. I was even prepared for...\n",
       "1  A2TS09JCXNV1VD      5  Grove Square Cappuccino Cups were excellent. T...\n",
       "2   AJ3L5J7GN09SV      2  I bought the Grove Square hazelnut cappuccino ...\n",
       "3  A3CZD34ZTUJME7      1  I love my Keurig, and I love most of the Keuri...\n",
       "4   AWKN396SHAQGP      1  It's a powdered drink. No filter in k-cup.<br ..."
      ]
     },
     "execution_count": 107,
     "metadata": {},
     "output_type": "execute_result"
    }
   ],
   "source": [
    "data = pd.read_csv('../coffee.csv')\n",
    "data.head()"
   ]
  },
  {
   "cell_type": "markdown",
   "metadata": {},
   "source": [
    "<a id='preprocessing'></a>\n",
    "\n",
    "## Preprocessing"
   ]
  },
  {
   "cell_type": "code",
   "execution_count": 9,
   "metadata": {},
   "outputs": [
    {
     "data": {
      "text/html": [
       "<div>\n",
       "<style scoped>\n",
       "    .dataframe tbody tr th:only-of-type {\n",
       "        vertical-align: middle;\n",
       "    }\n",
       "\n",
       "    .dataframe tbody tr th {\n",
       "        vertical-align: top;\n",
       "    }\n",
       "\n",
       "    .dataframe thead th {\n",
       "        text-align: right;\n",
       "    }\n",
       "</style>\n",
       "<table border=\"1\" class=\"dataframe\">\n",
       "  <thead>\n",
       "    <tr style=\"text-align: right;\">\n",
       "      <th></th>\n",
       "      <th>user_id</th>\n",
       "      <th>stars</th>\n",
       "      <th>reviews</th>\n",
       "    </tr>\n",
       "  </thead>\n",
       "  <tbody>\n",
       "    <tr>\n",
       "      <th>0</th>\n",
       "      <td>A2XP9IN4JOMROD</td>\n",
       "      <td>1</td>\n",
       "      <td>i wanted to love this  i was even prepared for...</td>\n",
       "    </tr>\n",
       "    <tr>\n",
       "      <th>1</th>\n",
       "      <td>A2TS09JCXNV1VD</td>\n",
       "      <td>5</td>\n",
       "      <td>grove square cappuccino cups were excellent  t...</td>\n",
       "    </tr>\n",
       "    <tr>\n",
       "      <th>2</th>\n",
       "      <td>AJ3L5J7GN09SV</td>\n",
       "      <td>2</td>\n",
       "      <td>i bought the grove square hazelnut cappuccino ...</td>\n",
       "    </tr>\n",
       "    <tr>\n",
       "      <th>3</th>\n",
       "      <td>A3CZD34ZTUJME7</td>\n",
       "      <td>1</td>\n",
       "      <td>i love my keurig  and i love most of the keuri...</td>\n",
       "    </tr>\n",
       "    <tr>\n",
       "      <th>4</th>\n",
       "      <td>AWKN396SHAQGP</td>\n",
       "      <td>1</td>\n",
       "      <td>it s a powdered drink  no filter in k cup  br ...</td>\n",
       "    </tr>\n",
       "  </tbody>\n",
       "</table>\n",
       "</div>"
      ],
      "text/plain": [
       "          user_id  stars                                            reviews\n",
       "0  A2XP9IN4JOMROD      1  i wanted to love this  i was even prepared for...\n",
       "1  A2TS09JCXNV1VD      5  grove square cappuccino cups were excellent  t...\n",
       "2   AJ3L5J7GN09SV      2  i bought the grove square hazelnut cappuccino ...\n",
       "3  A3CZD34ZTUJME7      1  i love my keurig  and i love most of the keuri...\n",
       "4   AWKN396SHAQGP      1  it s a powdered drink  no filter in k cup  br ..."
      ]
     },
     "execution_count": 9,
     "metadata": {},
     "output_type": "execute_result"
    }
   ],
   "source": [
    "\n",
    "alphanumeric = lambda x: re.sub(r\"\"\"\\w*\\d\\w*\"\"\", ' ', x)\n",
    "punc_lower = lambda x: re.sub('[%s]' % re.escape(string.punctuation), ' ', x.lower())\n",
    "\n",
    "data['reviews'] = data.reviews.map(alphanumeric).map(punc_lower)\n",
    "data.head()"
   ]
  },
  {
   "cell_type": "markdown",
   "metadata": {},
   "source": [
    "<a id='reviews_no'></a>\n",
    "\n",
    "## Number of Reviews"
   ]
  },
  {
   "cell_type": "code",
   "execution_count": 11,
   "metadata": {},
   "outputs": [
    {
     "data": {
      "text/plain": [
       "542"
      ]
     },
     "execution_count": 11,
     "metadata": {},
     "output_type": "execute_result"
    }
   ],
   "source": [
    "data['reviews'].count()"
   ]
  },
  {
   "cell_type": "markdown",
   "metadata": {},
   "source": [
    "\n",
    "<a id='reviews_percent'></a>\n",
    "\n",
    "##  Percent Reviews"
   ]
  },
  {
   "cell_type": "code",
   "execution_count": 12,
   "metadata": {},
   "outputs": [
    {
     "data": {
      "text/plain": [
       "5    56.826568\n",
       "1    17.712177\n",
       "4    11.992620\n",
       "2     8.302583\n",
       "3     5.166052\n",
       "Name: stars, dtype: float64"
      ]
     },
     "execution_count": 12,
     "metadata": {},
     "output_type": "execute_result"
    }
   ],
   "source": [
    "data['stars'].value_counts(normalize= True)*100"
   ]
  },
  {
   "cell_type": "markdown",
   "metadata": {},
   "source": [
    " <a id='modelling_new_column'></a>\n",
    "\n",
    "## Modelling New Column "
   ]
  },
  {
   "cell_type": "code",
   "execution_count": 82,
   "metadata": {},
   "outputs": [
    {
     "name": "stderr",
     "output_type": "stream",
     "text": [
      "C:\\Users\\DayoBanjo\\Anaconda3\\lib\\site-packages\\ipykernel_launcher.py:7: SettingWithCopyWarning: \n",
      "A value is trying to be set on a copy of a slice from a DataFrame\n",
      "\n",
      "See the caveats in the documentation: http://pandas.pydata.org/pandas-docs/stable/indexing.html#indexing-view-versus-copy\n",
      "  import sys\n",
      "C:\\Users\\DayoBanjo\\Anaconda3\\lib\\site-packages\\ipykernel_launcher.py:5: SettingWithCopyWarning: \n",
      "A value is trying to be set on a copy of a slice from a DataFrame\n",
      "\n",
      "See the caveats in the documentation: http://pandas.pydata.org/pandas-docs/stable/indexing.html#indexing-view-versus-copy\n",
      "  \"\"\"\n"
     ]
    }
   ],
   "source": [
    "data['star_polarity'] = 0\n",
    "\n",
    "for i in range(len(data['reviews'])):\n",
    "    if data['stars'][i]==4 or data['stars'][i]==5:\n",
    "                data['star_polarity'][i] = 'positive'\n",
    "    elif data['stars'][i]==1 or data['stars'][i]==2 or data['stars'][i] ==3:\n",
    "         data['star_polarity'][i] = 'negative'\n",
    "    else:\n",
    "        data.drop(data['star_polarity'][i])"
   ]
  },
  {
   "cell_type": "code",
   "execution_count": 83,
   "metadata": {},
   "outputs": [
    {
     "data": {
      "text/html": [
       "<div>\n",
       "<style scoped>\n",
       "    .dataframe tbody tr th:only-of-type {\n",
       "        vertical-align: middle;\n",
       "    }\n",
       "\n",
       "    .dataframe tbody tr th {\n",
       "        vertical-align: top;\n",
       "    }\n",
       "\n",
       "    .dataframe thead th {\n",
       "        text-align: right;\n",
       "    }\n",
       "</style>\n",
       "<table border=\"1\" class=\"dataframe\">\n",
       "  <thead>\n",
       "    <tr style=\"text-align: right;\">\n",
       "      <th></th>\n",
       "      <th>user_id</th>\n",
       "      <th>stars</th>\n",
       "      <th>reviews</th>\n",
       "      <th>star_polarity</th>\n",
       "    </tr>\n",
       "  </thead>\n",
       "  <tbody>\n",
       "    <tr>\n",
       "      <th>0</th>\n",
       "      <td>A2XP9IN4JOMROD</td>\n",
       "      <td>1</td>\n",
       "      <td>i wanted to love this  i was even prepared for...</td>\n",
       "      <td>negative</td>\n",
       "    </tr>\n",
       "    <tr>\n",
       "      <th>1</th>\n",
       "      <td>A2TS09JCXNV1VD</td>\n",
       "      <td>5</td>\n",
       "      <td>grove square cappuccino cups were excellent  t...</td>\n",
       "      <td>positive</td>\n",
       "    </tr>\n",
       "    <tr>\n",
       "      <th>2</th>\n",
       "      <td>AJ3L5J7GN09SV</td>\n",
       "      <td>2</td>\n",
       "      <td>i bought the grove square hazelnut cappuccino ...</td>\n",
       "      <td>negative</td>\n",
       "    </tr>\n",
       "    <tr>\n",
       "      <th>3</th>\n",
       "      <td>A3CZD34ZTUJME7</td>\n",
       "      <td>1</td>\n",
       "      <td>i love my keurig  and i love most of the keuri...</td>\n",
       "      <td>negative</td>\n",
       "    </tr>\n",
       "    <tr>\n",
       "      <th>4</th>\n",
       "      <td>AWKN396SHAQGP</td>\n",
       "      <td>1</td>\n",
       "      <td>it s a powdered drink  no filter in k cup  br ...</td>\n",
       "      <td>negative</td>\n",
       "    </tr>\n",
       "  </tbody>\n",
       "</table>\n",
       "</div>"
      ],
      "text/plain": [
       "          user_id  stars                                            reviews  \\\n",
       "0  A2XP9IN4JOMROD      1  i wanted to love this  i was even prepared for...   \n",
       "1  A2TS09JCXNV1VD      5  grove square cappuccino cups were excellent  t...   \n",
       "2   AJ3L5J7GN09SV      2  i bought the grove square hazelnut cappuccino ...   \n",
       "3  A3CZD34ZTUJME7      1  i love my keurig  and i love most of the keuri...   \n",
       "4   AWKN396SHAQGP      1  it s a powdered drink  no filter in k cup  br ...   \n",
       "\n",
       "  star_polarity  \n",
       "0      negative  \n",
       "1      positive  \n",
       "2      negative  \n",
       "3      negative  \n",
       "4      negative  "
      ]
     },
     "execution_count": 83,
     "metadata": {},
     "output_type": "execute_result"
    }
   ],
   "source": [
    "data.head()"
   ]
  },
  {
   "cell_type": "code",
   "execution_count": 84,
   "metadata": {},
   "outputs": [
    {
     "data": {
      "text/plain": [
       "positive    68.819188\n",
       "negative    31.180812\n",
       "Name: star_polarity, dtype: float64"
      ]
     },
     "execution_count": 84,
     "metadata": {},
     "output_type": "execute_result"
    }
   ],
   "source": [
    "data['star_polarity'].value_counts(normalize= True)*100"
   ]
  },
  {
   "cell_type": "code",
   "execution_count": 85,
   "metadata": {},
   "outputs": [
    {
     "data": {
      "text/html": [
       "<div>\n",
       "<style scoped>\n",
       "    .dataframe tbody tr th:only-of-type {\n",
       "        vertical-align: middle;\n",
       "    }\n",
       "\n",
       "    .dataframe tbody tr th {\n",
       "        vertical-align: top;\n",
       "    }\n",
       "\n",
       "    .dataframe thead th {\n",
       "        text-align: right;\n",
       "    }\n",
       "</style>\n",
       "<table border=\"1\" class=\"dataframe\">\n",
       "  <thead>\n",
       "    <tr style=\"text-align: right;\">\n",
       "      <th></th>\n",
       "      <th>user_id</th>\n",
       "      <th>stars</th>\n",
       "      <th>reviews</th>\n",
       "      <th>star_polarity</th>\n",
       "    </tr>\n",
       "  </thead>\n",
       "  <tbody>\n",
       "    <tr>\n",
       "      <th>0</th>\n",
       "      <td>A2XP9IN4JOMROD</td>\n",
       "      <td>1</td>\n",
       "      <td>i wanted to love this  i was even prepared for...</td>\n",
       "      <td>negative</td>\n",
       "    </tr>\n",
       "    <tr>\n",
       "      <th>1</th>\n",
       "      <td>A2TS09JCXNV1VD</td>\n",
       "      <td>5</td>\n",
       "      <td>grove square cappuccino cups were excellent  t...</td>\n",
       "      <td>positive</td>\n",
       "    </tr>\n",
       "    <tr>\n",
       "      <th>2</th>\n",
       "      <td>AJ3L5J7GN09SV</td>\n",
       "      <td>2</td>\n",
       "      <td>i bought the grove square hazelnut cappuccino ...</td>\n",
       "      <td>negative</td>\n",
       "    </tr>\n",
       "    <tr>\n",
       "      <th>3</th>\n",
       "      <td>A3CZD34ZTUJME7</td>\n",
       "      <td>1</td>\n",
       "      <td>i love my keurig  and i love most of the keuri...</td>\n",
       "      <td>negative</td>\n",
       "    </tr>\n",
       "    <tr>\n",
       "      <th>4</th>\n",
       "      <td>AWKN396SHAQGP</td>\n",
       "      <td>1</td>\n",
       "      <td>it s a powdered drink  no filter in k cup  br ...</td>\n",
       "      <td>negative</td>\n",
       "    </tr>\n",
       "  </tbody>\n",
       "</table>\n",
       "</div>"
      ],
      "text/plain": [
       "          user_id  stars                                            reviews  \\\n",
       "0  A2XP9IN4JOMROD      1  i wanted to love this  i was even prepared for...   \n",
       "1  A2TS09JCXNV1VD      5  grove square cappuccino cups were excellent  t...   \n",
       "2   AJ3L5J7GN09SV      2  i bought the grove square hazelnut cappuccino ...   \n",
       "3  A3CZD34ZTUJME7      1  i love my keurig  and i love most of the keuri...   \n",
       "4   AWKN396SHAQGP      1  it s a powdered drink  no filter in k cup  br ...   \n",
       "\n",
       "  star_polarity  \n",
       "0      negative  \n",
       "1      positive  \n",
       "2      negative  \n",
       "3      negative  \n",
       "4      negative  "
      ]
     },
     "execution_count": 85,
     "metadata": {},
     "output_type": "execute_result"
    }
   ],
   "source": [
    "# Text preprocessing steps - remove numbers, captial letters and punctuation\n",
    "import re\n",
    "import string\n",
    "\n",
    "alphanumeric = lambda x: re.sub(r\"\"\"\\w*\\d\\w*\"\"\", ' ', x)\n",
    "punc_lower = lambda x: re.sub('[%s]' % re.escape(string.punctuation), ' ', x.lower())\n",
    "\n",
    "data['reviews'] = data.reviews.map(alphanumeric).map(punc_lower)\n",
    "data.head()"
   ]
  },
  {
   "cell_type": "markdown",
   "metadata": {},
   "source": [
    "<a id ='split'></a>\n",
    "\n",
    "## Spliting Dataset into Test and Training Set"
   ]
  },
  {
   "cell_type": "code",
   "execution_count": 86,
   "metadata": {},
   "outputs": [],
   "source": [
    "target = data['star_polarity']\n",
    "features = data['reviews']\n",
    "X_train, X_test, y_train, y_test = train_test_split(features, target, test_size = 0.33, random_state = 0)"
   ]
  },
  {
   "cell_type": "code",
   "execution_count": 78,
   "metadata": {},
   "outputs": [
    {
     "data": {
      "text/plain": [
       "(363,)"
      ]
     },
     "execution_count": 78,
     "metadata": {},
     "output_type": "execute_result"
    }
   ],
   "source": [
    "y_train.shape"
   ]
  },
  {
   "cell_type": "markdown",
   "metadata": {},
   "source": [
    "<a id ='unigrams'></a>\n",
    "\n",
    "### Creation of Matrix 1: Terms should be unigram (single word), and values should be word counts"
   ]
  },
  {
   "cell_type": "code",
   "execution_count": 87,
   "metadata": {},
   "outputs": [
    {
     "data": {
      "text/plain": [
       "(179, 1626)"
      ]
     },
     "execution_count": 87,
     "metadata": {},
     "output_type": "execute_result"
    }
   ],
   "source": [
    "ngram_size = 1\n",
    "\n",
    "vectorizer_1 = CountVectorizer(ngram_range=(1,1), stop_words= 'english')\n",
    "X_train_cv_1 = vectorizer_1.fit_transform(X_train) # fit_transform learns the vocab and one-hot-encodes\n",
    "\n",
    "X_test_cv_1 = vectorizer_1.transform(X_test) # transform uses the same vocab and one-hot-encodes\n",
    "X_test_cv_1.shape"
   ]
  },
  {
   "cell_type": "markdown",
   "metadata": {},
   "source": [
    "<a id ='2_ngrams'></a>\n",
    "\n",
    "### Creation of Matrix 2: Terms should be ngrams =2 (single words), and values should be word counts"
   ]
  },
  {
   "cell_type": "code",
   "execution_count": 88,
   "metadata": {},
   "outputs": [
    {
     "name": "stdout",
     "output_type": "stream",
     "text": [
      "(363, 7774)\n"
     ]
    }
   ],
   "source": [
    "ngram_size = 2\n",
    "vectorizer_2 = CountVectorizer(ngram_range=(1,2), stop_words= 'english')\n",
    "X_train_cv_2 = vectorizer_2.fit_transform(X_train) # fit_transform learns the vocab and one-hot-encodes\n",
    "\n",
    "X_test_cv_2 = vectorizer_2.transform(X_test) # transform uses the same vocab and one-hot-encodes\n",
    "\n",
    "#Print the dimensions of the training set \n",
    "print(X_train_cv_2.toarray().shape)"
   ]
  },
  {
   "cell_type": "code",
   "execution_count": 91,
   "metadata": {},
   "outputs": [
    {
     "name": "stdout",
     "output_type": "stream",
     "text": [
      "(363, 1626)\n"
     ]
    }
   ],
   "source": [
    "cv = CountVectorizer(stop_words='english')\n",
    "X_train_cv = cv.fit_transform(X_train) # fit_transform learns the vocab and one-hot encodes\n",
    "X_test_cv = cv.transform(X_test) # transform uses the same vocab and one-hot encodes\n",
    "\n",
    "\n",
    "\n",
    "\n",
    "print(X_train_cv.toarray().shape)\n"
   ]
  },
  {
   "cell_type": "markdown",
   "metadata": {},
   "source": [
    "<a id ='log_reg'></a>\n",
    "\n",
    "## Logistic Regression"
   ]
  },
  {
   "cell_type": "code",
   "execution_count": 90,
   "metadata": {},
   "outputs": [
    {
     "data": {
      "text/plain": [
       "LogisticRegression(C=1.0, class_weight=None, dual=False, fit_intercept=True,\n",
       "                   intercept_scaling=1, l1_ratio=None, max_iter=100,\n",
       "                   multi_class='warn', n_jobs=None, penalty='l2',\n",
       "                   random_state=None, solver='warn', tol=0.0001, verbose=0,\n",
       "                   warm_start=False)"
      ]
     },
     "execution_count": 90,
     "metadata": {},
     "output_type": "execute_result"
    }
   ],
   "source": [
    "classifier = LogisticRegression()\n",
    "classifier.fit(X_train_cv, y_train)"
   ]
  },
  {
   "cell_type": "code",
   "execution_count": 92,
   "metadata": {
    "scrolled": true
   },
   "outputs": [
    {
     "data": {
      "text/plain": [
       "array(['negative', 'positive', 'positive', 'positive', 'positive',\n",
       "       'positive', 'positive', 'negative', 'negative', 'positive',\n",
       "       'negative', 'positive', 'positive', 'positive', 'positive',\n",
       "       'negative', 'positive', 'positive', 'positive', 'positive',\n",
       "       'positive', 'positive', 'positive', 'positive', 'positive',\n",
       "       'positive', 'negative', 'positive', 'negative', 'positive',\n",
       "       'positive', 'positive', 'positive', 'positive', 'positive',\n",
       "       'positive', 'positive', 'positive', 'positive', 'positive',\n",
       "       'positive', 'negative', 'negative', 'negative', 'positive',\n",
       "       'positive', 'negative', 'positive', 'negative', 'negative',\n",
       "       'positive', 'positive', 'positive', 'positive', 'positive',\n",
       "       'negative', 'positive', 'positive', 'negative', 'positive',\n",
       "       'positive', 'positive', 'positive', 'negative', 'positive',\n",
       "       'negative', 'positive', 'negative', 'positive', 'positive',\n",
       "       'positive', 'positive', 'positive', 'positive', 'positive',\n",
       "       'positive', 'positive', 'positive', 'negative', 'positive',\n",
       "       'positive', 'positive', 'negative', 'positive', 'negative',\n",
       "       'positive', 'negative', 'positive', 'positive', 'positive',\n",
       "       'positive', 'positive', 'negative', 'negative', 'positive',\n",
       "       'positive', 'positive', 'positive', 'negative', 'positive',\n",
       "       'positive', 'positive', 'positive', 'positive', 'positive',\n",
       "       'negative', 'positive', 'positive', 'positive', 'positive',\n",
       "       'positive', 'positive', 'positive', 'positive', 'positive',\n",
       "       'positive', 'positive', 'positive', 'positive', 'negative',\n",
       "       'positive', 'negative', 'positive', 'positive', 'positive',\n",
       "       'positive', 'positive', 'positive', 'positive', 'positive',\n",
       "       'positive', 'positive', 'positive', 'negative', 'positive',\n",
       "       'negative', 'negative', 'negative', 'negative', 'positive',\n",
       "       'negative', 'positive', 'negative', 'positive', 'positive',\n",
       "       'positive', 'positive', 'positive', 'negative', 'positive',\n",
       "       'negative', 'negative', 'negative', 'positive', 'positive',\n",
       "       'positive', 'negative', 'positive', 'positive', 'positive',\n",
       "       'positive', 'positive', 'positive', 'positive', 'positive',\n",
       "       'positive', 'positive', 'positive', 'negative', 'negative',\n",
       "       'positive', 'positive', 'positive', 'positive', 'positive',\n",
       "       'negative', 'negative', 'positive', 'positive'], dtype=object)"
      ]
     },
     "execution_count": 92,
     "metadata": {},
     "output_type": "execute_result"
    }
   ],
   "source": [
    "y_pred_cv = classifier.predict(X_test_cv)\n",
    "y_pred_cv"
   ]
  },
  {
   "cell_type": "markdown",
   "metadata": {},
   "source": [
    "<a d='error_metric'></a>\n",
    "\n",
    "## Error Metric"
   ]
  },
  {
   "cell_type": "code",
   "execution_count": null,
   "metadata": {},
   "outputs": [],
   "source": [
    "Error Metrics\n",
    "• Accuracy = (TP + TN) / All\n",
    "• Precision = TP / (TP + FP)\n",
    "• Recall = TP / (TP + FN)\n",
    "• F1 Score = 2*(P*R)/(P+R)"
   ]
  },
  {
   "cell_type": "code",
   "execution_count": 103,
   "metadata": {},
   "outputs": [
    {
     "name": "stdout",
     "output_type": "stream",
     "text": [
      "Accuracy: 0.866\n",
      "Precision: 0.874\n",
      "Recall: 0.944\n",
      "F1 Score: 0.908\n"
     ]
    },
    {
     "data": {
      "image/png": "[encoded data removed]",
      "text/plain": [
       "<Figure size 432x288 with 2 Axes>"
      ]
     },
     "metadata": {
      "needs_background": "light"
     },
     "output_type": "display_data"
    }
   ],
   "source": [
    "cm = confusion_matrix(y_test, y_pred_cv)\n",
    "sns.heatmap(cm, xticklabels=['predicted_positive', 'predicted_negative'], yticklabels=['actual_positive', 'actual_negative'],\n",
    "annot=True, fmt='d', annot_kws={'fontsize':20}, cmap=\"YlGnBu\");\n",
    "true_neg, false_pos = cm[0]\n",
    "false_neg, true_pos = cm[1]\n",
    "accuracy = round((true_pos + true_neg) / (true_pos + true_neg + false_pos + false_neg),3)\n",
    "precision = round((true_pos) / (true_pos + false_pos),3)\n",
    "recall = round((true_pos) / (true_pos + false_neg),3)\n",
    "f1 = round(2 * (precision * recall) / (precision + recall),3)\n",
    "print('Accuracy: {}'.format(accuracy))\n",
    "print('Precision: {}'.format(precision))\n",
    "print('Recall: {}'.format(recall))\n",
    "print('F1 Score: {}'.format(f1))"
   ]
  },
  {
   "cell_type": "code",
   "execution_count": null,
   "metadata": {},
   "outputs": [],
   "source": []
  },
  {
   "cell_type": "markdown",
   "metadata": {},
   "source": [
    "<a id='multinomialNB'></a>\n",
    "\n",
    "## Multinomial Naive Bayes Algorithms"
   ]
  },
  {
   "cell_type": "code",
   "execution_count": 104,
   "metadata": {},
   "outputs": [],
   "source": [
    "nb = MultinomialNB()\n",
    "# Train the model\n",
    "nb.fit(X_train_cv, y_train)\n",
    "# Take the model that was trained on the X_train_cv data and apply it to the X_test_cv\n",
    "\n",
    "y_pred_cv_nb = nb.predict(X_test_cv)"
   ]
  },
  {
   "cell_type": "code",
   "execution_count": 106,
   "metadata": {},
   "outputs": [
    {
     "name": "stdout",
     "output_type": "stream",
     "text": [
      "Accuracy: 0.866\n",
      "Precision: 0.858\n",
      "Recall: 0.968\n",
      "F1 Score: 0.91\n"
     ]
    },
    {
     "data": {
      "image/png": "[encoded data removed]",
      "text/plain": [
       "<Figure size 432x288 with 2 Axes>"
      ]
     },
     "metadata": {
      "needs_background": "light"
     },
     "output_type": "display_data"
    }
   ],
   "source": [
    "cm = confusion_matrix(y_test, y_pred_cv_nb)\n",
    "sns.heatmap(cm, xticklabels=['predicted_positive', 'predicted_negative'], yticklabels=['actual_positive', 'actual_negative'],\n",
    "annot=True, fmt='d', annot_kws={'fontsize':20}, cmap=\"YlGnBu\");\n",
    "true_neg, false_pos = cm[0]\n",
    "false_neg, true_pos = cm[1]\n",
    "accuracy = round((true_pos + true_neg) / (true_pos + true_neg + false_pos + false_neg),3)\n",
    "precision = round((true_pos) / (true_pos + false_pos),3)\n",
    "recall = round((true_pos) / (true_pos + false_neg),3)\n",
    "f1 = round(2 * (precision * recall) / (precision + recall),3)\n",
    "print('Accuracy: {}'.format(accuracy))\n",
    "print('Precision: {}'.format(precision))\n",
    "print('Recall: {}'.format(recall))\n",
    "print('F1 Score: {}'.format(f1))"
   ]
  }
 ],
 "metadata": {
  "kernelspec": {
   "display_name": "Python 3",
   "language": "python",
   "name": "python3"
  },
  "language_info": {
   "codemirror_mode": {
    "name": "ipython",
    "version": 3
   },
   "file_extension": ".py",
   "mimetype": "text/x-python",
   "name": "python",
   "nbconvert_exporter": "python",
   "pygments_lexer": "ipython3",
   "version": "3.7.3"
  }
 },
 "nbformat": 4,
 "nbformat_minor": 2
}
